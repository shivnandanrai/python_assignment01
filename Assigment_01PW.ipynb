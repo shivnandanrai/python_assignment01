{
 "cells": [
  {
   "cell_type": "code",
   "execution_count": 1,
   "id": "a6e18450",
   "metadata": {},
   "outputs": [],
   "source": [
    "#def function used for store function in python."
   ]
  },
  {
   "cell_type": "code",
   "execution_count": 15,
   "id": "e0ce1241",
   "metadata": {},
   "outputs": [
    {
     "name": "stdout",
     "output_type": "stream",
     "text": [
      "[1, 3, 5, 7, 9, 11, 13, 15, 17, 19, 21, 23, 25]\n"
     ]
    }
   ],
   "source": [
    "def odd_numbers():\n",
    "    odd_numbers = [num for num in range(1, 26) if num % 2 != 0]\n",
    "    return odd_numbers\n",
    "\n",
    "# Call the function and print the result\n",
    "result = odd_numbers()\n",
    "print(result)"
   ]
  },
  {
   "cell_type": "code",
   "execution_count": 2,
   "id": "a6903d26",
   "metadata": {},
   "outputs": [],
   "source": [
    "# What is an iterator in python\n",
    "iterator in python used for takeing separate each elements individiuals without distubing others"
   ]
  },
  {
   "cell_type": "code",
   "execution_count": 3,
   "id": "b0f5d153",
   "metadata": {},
   "outputs": [],
   "source": [
    "#In Python, an iterator is an object that can be iterated (looped) over. It provides a way to access the elements of a container, such as a list or a tuple, one at a time without having to know the underlying details of the container's implementation. Iterators are an essential part of the Python language, and they are used in various scenarios. Here are some common uses of iterators in Python:"
   ]
  },
  {
   "cell_type": "code",
   "execution_count": 7,
   "id": "075f2a67",
   "metadata": {},
   "outputs": [],
   "source": [
    "#Name the method used to initialise the iterator object and the method \n",
    "#usedfor iteration - slicing is used for iterator "
   ]
  },
  {
   "cell_type": "code",
   "execution_count": 6,
   "id": "b26fbe1a",
   "metadata": {},
   "outputs": [
    {
     "name": "stdout",
     "output_type": "stream",
     "text": [
      "2\n",
      "4\n",
      "6\n",
      "8\n",
      "10\n"
     ]
    }
   ],
   "source": [
    "from itertools import islice\n",
    "my_list=[2, 4, 6, 8, 10, 12, 14, 16, 18, 20]\n",
    "for element in islice(my_list,5):\n",
    "    print(element)"
   ]
  },
  {
   "cell_type": "code",
   "execution_count": 8,
   "id": "e60911a9",
   "metadata": {},
   "outputs": [],
   "source": [
    "#In Python, a generator function is a special kind of function that allows you to iterate over a potentially large sequence of data without loading the entire sequence into memory. Unlike regular functions that use return to provide a result and then terminate, generator functions use the yield keyword to produce a series of values over multiple calls, maintaining their state between calls."
   ]
  },
  {
   "cell_type": "code",
   "execution_count": 9,
   "id": "1ca42992",
   "metadata": {},
   "outputs": [
    {
     "name": "stdout",
     "output_type": "stream",
     "text": [
      "2\n",
      "3\n",
      "5\n",
      "7\n",
      "11\n",
      "13\n",
      "17\n",
      "19\n",
      "23\n",
      "29\n",
      "31\n",
      "37\n",
      "41\n",
      "43\n",
      "47\n",
      "53\n",
      "59\n",
      "61\n",
      "67\n",
      "71\n"
     ]
    }
   ],
   "source": [
    "def is_prime(num):\n",
    "    \"\"\"Check if a number is prime.\"\"\"\n",
    "    if num < 2:\n",
    "        return False\n",
    "    for i in range(2, int(num**0.5) + 1):\n",
    "        if num % i == 0:\n",
    "            return False\n",
    "    return True\n",
    "\n",
    "def generate_primes():\n",
    "    \"\"\"Generate prime numbers less than 1000.\"\"\"\n",
    "    num = 2\n",
    "    while num < 1000:\n",
    "        if is_prime(num):\n",
    "            yield num\n",
    "        num += 1\n",
    "\n",
    "# Use the generator to print the first 20 prime numbers\n",
    "prime_generator = generate_primes()\n",
    "\n",
    "for _ in range(20):\n",
    "    print(next(prime_generator))\n"
   ]
  },
  {
   "cell_type": "code",
   "execution_count": 10,
   "id": "7e6a6032",
   "metadata": {},
   "outputs": [
    {
     "name": "stdout",
     "output_type": "stream",
     "text": [
      "[0, 1, 1, 2, 3, 5, 8, 13, 21, 34]\n"
     ]
    }
   ],
   "source": [
    "# Function to print the first n Fibonacci numbers\n",
    "def fibonacci(n):\n",
    "    fib_list = []\n",
    "    a, b = 0, 1\n",
    "    count = 0\n",
    "\n",
    "    while count < n:\n",
    "        fib_list.append(a)\n",
    "        a, b = b, a + b\n",
    "        count += 1\n",
    "\n",
    "    return fib_list\n",
    "\n",
    "# Print the first 10 Fibonacci numbers\n",
    "result = fibonacci(10)\n",
    "print(result)\n"
   ]
  },
  {
   "cell_type": "code",
   "execution_count": 11,
   "id": "f39a806d",
   "metadata": {},
   "outputs": [
    {
     "name": "stdout",
     "output_type": "stream",
     "text": [
      "['p', 'w', 's', 'k', 'i', 'l', 'l', 's']\n"
     ]
    }
   ],
   "source": [
    "original_string = 'pwskills'\n",
    "\n",
    "result_list = [char for char in original_string]\n",
    "print(result_list)\n"
   ]
  },
  {
   "cell_type": "code",
   "execution_count": 12,
   "id": "22ef1971",
   "metadata": {},
   "outputs": [
    {
     "name": "stdout",
     "output_type": "stream",
     "text": [
      "Enter a number: 12\n",
      "12 is not a palindrome.\n"
     ]
    }
   ],
   "source": [
    "def is_palindrome(number):\n",
    "    original_number = number\n",
    "    reversed_number = 0\n",
    "\n",
    "    while number > 0:\n",
    "        digit = number % 10\n",
    "        reversed_number = reversed_number * 10 + digit\n",
    "        number = number // 10\n",
    "\n",
    "    return original_number == reversed_number\n",
    "\n",
    "# Input from the user\n",
    "num = int(input(\"Enter a number: \"))\n",
    "\n",
    "# Check if the number is a palindrome\n",
    "if is_palindrome(num):\n",
    "    print(f\"{num} is a palindrome.\")\n",
    "else:\n",
    "    print(f\"{num} is not a palindrome.\")\n"
   ]
  },
  {
   "cell_type": "code",
   "execution_count": 13,
   "id": "df06d766",
   "metadata": {},
   "outputs": [
    {
     "name": "stdout",
     "output_type": "stream",
     "text": [
      "[1, 3, 5, 7, 9, 11, 13, 15, 17, 19, 21, 23, 25, 27, 29, 31, 33, 35, 37, 39, 41, 43, 45, 47, 49, 51, 53, 55, 57, 59, 61, 63, 65, 67, 69, 71, 73, 75, 77, 79, 81, 83, 85, 87, 89, 91, 93, 95, 97, 99]\n"
     ]
    }
   ],
   "source": [
    "odd_numbers = [num for num in range(1, 101) if num % 2 != 0]\n",
    "\n",
    "print(odd_numbers)\n"
   ]
  },
  {
   "cell_type": "code",
   "execution_count": null,
   "id": "05ae54c4",
   "metadata": {},
   "outputs": [],
   "source": []
  }
 ],
 "metadata": {
  "kernelspec": {
   "display_name": "Python 3",
   "language": "python",
   "name": "python3"
  },
  "language_info": {
   "codemirror_mode": {
    "name": "ipython",
    "version": 3
   },
   "file_extension": ".py",
   "mimetype": "text/x-python",
   "name": "python",
   "nbconvert_exporter": "python",
   "pygments_lexer": "ipython3",
   "version": "3.8.8"
  }
 },
 "nbformat": 4,
 "nbformat_minor": 5
}
